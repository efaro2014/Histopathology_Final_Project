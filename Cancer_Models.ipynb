{
 "cells": [
  {
   "cell_type": "markdown",
   "id": "24c44cea-b869-4e36-b0ee-5a8d80b2edb8",
   "metadata": {},
   "source": [
    "Cancer Detection\n",
    "===="
   ]
  },
  {
   "cell_type": "code",
   "execution_count": 1,
   "id": "4d20494f-42f7-4f2c-93ea-8661e7f62cf8",
   "metadata": {},
   "outputs": [],
   "source": [
    "#%pip install -U ipywidgets"
   ]
  },
  {
   "cell_type": "code",
   "execution_count": 2,
   "id": "pediatric-castle",
   "metadata": {},
   "outputs": [],
   "source": [
    "import os\n",
    "import cv2\n",
    "import time\n",
    "import pickle\n",
    "import numpy as np\n",
    "import pandas as pd\n",
    "from tqdm.notebook import tqdm\n",
    "from datetime import date\n",
    "import matplotlib.pyplot as plt\n",
    "plt.style.use('ggplot')\n",
    "\n",
    "from sklearn.model_selection import train_test_split\n",
    "\n",
    "import torch\n",
    "from torch.utils.data import Dataset, DataLoader\n",
    "import torch.nn as nn\n",
    "import torch.optim as optim\n",
    "\n",
    "# data augmentation\n",
    "import albumentations as A\n",
    "\n",
    "from albumentations.pytorch import ToTensorV2\n",
    "\n",
    "# pretrained models\n",
    "import torchvision\n",
    "from torchvision import models, transforms\n",
    "\n",
    "from tqdm.notebook import tqdm\n",
    "\n"
   ]
  },
  {
   "cell_type": "markdown",
   "id": "53c332d9-5dc6-4359-a9a3-d6f35b7d2e8a",
   "metadata": {},
   "source": [
    "Importing the data\n",
    "===="
   ]
  },
  {
   "cell_type": "code",
   "execution_count": 3,
   "id": "fresh-clear",
   "metadata": {},
   "outputs": [
    {
     "name": "stdout",
     "output_type": "stream",
     "text": [
      "lung_aca\n",
      "lung_n\n",
      "lung_scc\n",
      "colon_n\n",
      "colon_aca\n",
      "24999\n"
     ]
    },
    {
     "data": {
      "text/html": [
       "<div>\n",
       "<style scoped>\n",
       "    .dataframe tbody tr th:only-of-type {\n",
       "        vertical-align: middle;\n",
       "    }\n",
       "\n",
       "    .dataframe tbody tr th {\n",
       "        vertical-align: top;\n",
       "    }\n",
       "\n",
       "    .dataframe thead th {\n",
       "        text-align: right;\n",
       "    }\n",
       "</style>\n",
       "<table border=\"1\" class=\"dataframe\">\n",
       "  <thead>\n",
       "    <tr style=\"text-align: right;\">\n",
       "      <th></th>\n",
       "      <th>image_file</th>\n",
       "      <th>label</th>\n",
       "      <th>image_path</th>\n",
       "    </tr>\n",
       "  </thead>\n",
       "  <tbody>\n",
       "    <tr>\n",
       "      <th>0</th>\n",
       "      <td>lungaca1843.jpeg</td>\n",
       "      <td>lung_aca</td>\n",
       "      <td>/home/oniemann/Cancer_Classifier/lung_colon_im...</td>\n",
       "    </tr>\n",
       "    <tr>\n",
       "      <th>1</th>\n",
       "      <td>lungaca294.jpeg</td>\n",
       "      <td>lung_aca</td>\n",
       "      <td>/home/oniemann/Cancer_Classifier/lung_colon_im...</td>\n",
       "    </tr>\n",
       "    <tr>\n",
       "      <th>2</th>\n",
       "      <td>lungaca3487.jpeg</td>\n",
       "      <td>lung_aca</td>\n",
       "      <td>/home/oniemann/Cancer_Classifier/lung_colon_im...</td>\n",
       "    </tr>\n",
       "    <tr>\n",
       "      <th>3</th>\n",
       "      <td>lungaca4342.jpeg</td>\n",
       "      <td>lung_aca</td>\n",
       "      <td>/home/oniemann/Cancer_Classifier/lung_colon_im...</td>\n",
       "    </tr>\n",
       "    <tr>\n",
       "      <th>4</th>\n",
       "      <td>lungaca1140.jpeg</td>\n",
       "      <td>lung_aca</td>\n",
       "      <td>/home/oniemann/Cancer_Classifier/lung_colon_im...</td>\n",
       "    </tr>\n",
       "  </tbody>\n",
       "</table>\n",
       "</div>"
      ],
      "text/plain": [
       "         image_file     label  \\\n",
       "0  lungaca1843.jpeg  lung_aca   \n",
       "1   lungaca294.jpeg  lung_aca   \n",
       "2  lungaca3487.jpeg  lung_aca   \n",
       "3  lungaca4342.jpeg  lung_aca   \n",
       "4  lungaca1140.jpeg  lung_aca   \n",
       "\n",
       "                                          image_path  \n",
       "0  /home/oniemann/Cancer_Classifier/lung_colon_im...  \n",
       "1  /home/oniemann/Cancer_Classifier/lung_colon_im...  \n",
       "2  /home/oniemann/Cancer_Classifier/lung_colon_im...  \n",
       "3  /home/oniemann/Cancer_Classifier/lung_colon_im...  \n",
       "4  /home/oniemann/Cancer_Classifier/lung_colon_im...  "
      ]
     },
     "execution_count": 3,
     "metadata": {},
     "output_type": "execute_result"
    }
   ],
   "source": [
    "data_path = '/home/oniemann/Cancer_Classifier/lung_colon_image_set/'\n",
    "\n",
    "rows = []\n",
    "\n",
    "for c_type in os.listdir(data_path):\n",
    "    for label in os.listdir(data_path + f'/{c_type}'):\n",
    "        print(label)\n",
    "        for image in os.listdir(data_path + f'/{c_type}/{label}'):\n",
    "            row = dict()\n",
    "            row['image_file'] = image\n",
    "            row['label'] = label\n",
    "\n",
    "            # a bit redudant, could build from other data in __getitem__ if wanted\n",
    "            row['image_path'] = data_path + f'/{c_type}/{label}'\n",
    "            if '.jpeg' in row['image_file']:\n",
    "                rows.append(row)\n",
    "        \n",
    "df = pd.DataFrame(rows[1:])\n",
    "df['image_path'] = df['image_path'].map(lambda x: x.replace(\"//\", \"/\"))\n",
    "print(len(df))\n",
    "df.head()"
   ]
  },
  {
   "cell_type": "code",
   "execution_count": 3,
   "id": "83c99116-9e20-462d-986b-f806de57ad8f",
   "metadata": {},
   "outputs": [
    {
     "data": {
      "text/plain": [
       "colon_n      5000\n",
       "lung_n       5000\n",
       "lung_scc     5000\n",
       "colon_aca    5000\n",
       "lung_aca     4999\n",
       "Name: label, dtype: int64"
      ]
     },
     "execution_count": 3,
     "metadata": {},
     "output_type": "execute_result"
    }
   ],
   "source": [
    "df.label.value_counts()"
   ]
  },
  {
   "cell_type": "markdown",
   "id": "2669c53c-a0b1-49c3-986e-b42e44276369",
   "metadata": {},
   "source": [
    "# Create Augmented Dataset\n",
    "\n",
    "- crop\n",
    "\n",
    "- horizontal/vertical reflection\n",
    "\n",
    "- rotation\n",
    "\n",
    "- brightness contrast"
   ]
  },
  {
   "cell_type": "code",
   "execution_count": 15,
   "id": "intimate-contest",
   "metadata": {},
   "outputs": [],
   "source": [
    "class CancerImagesDataset(Dataset):\n",
    "    def __init__(self, df):\n",
    "        self.df = df\n",
    "        \n",
    "        self.label_dict = {label:idx for idx, label in enumerate(df.label.unique())}\n",
    "        \n",
    "        # Randomly augment images for variety\n",
    "        self.transforms = A.Compose([\n",
    "            # spatial transforms\n",
    "            A.RandomCrop(width=255, height=255),\n",
    "            A.HorizontalFlip(p=.5),\n",
    "            A.VerticalFlip(p=.5),\n",
    "            A.Rotate(limit = 10, \n",
    "                     border_mode = cv2.BORDER_CONSTANT, \n",
    "                     value = 0.0, p = .75),\n",
    "\n",
    "            # pixel-level transformation\n",
    "            A.RandomBrightnessContrast(p=0.1),\n",
    "\n",
    "            # we will normalize according to ImageNet since we will be using a pre-trained ResNet\n",
    "            # this adjusts from [0,255] to [0,1]\n",
    "            A.Normalize(mean=(0.485, 0.456, 0.406), std=(0.229, 0.224, 0.225)),\n",
    "\n",
    "            # convert to a tensor and move color channels\n",
    "            ToTensorV2()\n",
    "        ])\n",
    "        \n",
    "    def __len__(self):\n",
    "        return len(self.df)\n",
    "    \n",
    "    def __getitem__(self, idx):\n",
    "        row = self.df.iloc[idx]\n",
    "        \n",
    "        path = row['image_path'] + f\"/{row['image_file']}\"\n",
    "        \n",
    "        img = cv2.imread(path)\n",
    "        \n",
    "        #img = cv2.cvtColor(img, cv2.COLOR_BGR2RGB)\n",
    "        \n",
    "        transformed = self.transforms(image=img.astype(np.uint8))\n",
    "        img = transformed['image']\n",
    "        \n",
    "        #Scale to v\n",
    "        img = ((img - img.min()) / (img.max()-img.min()))\n",
    "        \n",
    "        label = torch.tensor(self.label_dict[row['label']])\n",
    "        \n",
    "        return img, label"
   ]
  },
  {
   "cell_type": "code",
   "execution_count": 5,
   "id": "challenging-minimum",
   "metadata": {},
   "outputs": [
    {
     "name": "stdout",
     "output_type": "stream",
     "text": [
      "lung_aca\n"
     ]
    },
    {
     "data": {
      "image/png": "[encoded data removed]",
      "text/plain": [
       "<Figure size 432x288 with 1 Axes>"
      ]
     },
     "metadata": {},
     "output_type": "display_data"
    }
   ],
   "source": [
    "# Example\n",
    "ds = CancerImagesDataset(df)\n",
    "translate_back = {v:k for k, v in ds.label_dict.items()}\n",
    "img = np.transpose(ds[1994][0], (1, 2, 0))\n",
    "print(translate_back[ds[1994][1].item()])\n",
    "plt.imshow(img);"
   ]
  },
  {
   "cell_type": "markdown",
   "id": "8fc9fbdb-2475-473b-a265-505d7a4e8008",
   "metadata": {},
   "source": [
    "- Create data loaders for train/test split"
   ]
  },
  {
   "cell_type": "code",
   "execution_count": 7,
   "id": "detected-blank",
   "metadata": {},
   "outputs": [],
   "source": [
    "batch_size = 16\n",
    "\n",
    "df_train, df_test = train_test_split(df)\n",
    "df_train, df_valid = train_test_split(df_train)\n",
    "\n",
    "ds_train = CancerImagesDataset(df_train)\n",
    "ds_valid = CancerImagesDataset(df_valid)\n",
    "\n",
    "dl_train = DataLoader(ds_train, batch_size = batch_size, shuffle=True)\n",
    "dl_valid = DataLoader(ds_valid, batch_size = batch_size, shuffle=False)"
   ]
  },
  {
   "cell_type": "markdown",
   "id": "norwegian-diagram",
   "metadata": {},
   "source": [
    "# Identify Best Pretrained CNN Model:\n",
    "\n",
    "- The following code was used to test different baseline models from the torchvision model library.\n",
    "- Models tested: resnet18, densenet121, mobilenet_v2, alexnet"
   ]
  },
  {
   "cell_type": "code",
   "execution_count": 10,
   "id": "26df57f5-b3fa-4078-8712-a71ff7c93b58",
   "metadata": {
    "collapsed": true,
    "jupyter": {
     "outputs_hidden": true
    },
    "tags": []
   },
   "outputs": [
    {
     "data": {
      "text/plain": [
       "['AlexNet',\n",
       " 'DenseNet',\n",
       " 'GoogLeNet',\n",
       " 'GoogLeNetOutputs',\n",
       " 'Inception3',\n",
       " 'InceptionOutputs',\n",
       " 'MNASNet',\n",
       " 'MobileNetV2',\n",
       " 'MobileNetV3',\n",
       " 'ResNet',\n",
       " 'ShuffleNetV2',\n",
       " 'SqueezeNet',\n",
       " 'VGG',\n",
       " '_GoogLeNetOutputs',\n",
       " '_InceptionOutputs',\n",
       " '__builtins__',\n",
       " '__cached__',\n",
       " '__doc__',\n",
       " '__file__',\n",
       " '__loader__',\n",
       " '__name__',\n",
       " '__package__',\n",
       " '__path__',\n",
       " '__spec__',\n",
       " '_utils',\n",
       " 'alexnet',\n",
       " 'densenet',\n",
       " 'densenet121',\n",
       " 'densenet161',\n",
       " 'densenet169',\n",
       " 'densenet201',\n",
       " 'detection',\n",
       " 'googlenet',\n",
       " 'inception',\n",
       " 'inception_v3',\n",
       " 'mnasnet',\n",
       " 'mnasnet0_5',\n",
       " 'mnasnet0_75',\n",
       " 'mnasnet1_0',\n",
       " 'mnasnet1_3',\n",
       " 'mobilenet',\n",
       " 'mobilenet_v2',\n",
       " 'mobilenet_v3_large',\n",
       " 'mobilenet_v3_small',\n",
       " 'mobilenetv2',\n",
       " 'mobilenetv3',\n",
       " 'quantization',\n",
       " 'resnet',\n",
       " 'resnet101',\n",
       " 'resnet152',\n",
       " 'resnet18',\n",
       " 'resnet34',\n",
       " 'resnet50',\n",
       " 'resnext101_32x8d',\n",
       " 'resnext50_32x4d',\n",
       " 'segmentation',\n",
       " 'shufflenet_v2_x0_5',\n",
       " 'shufflenet_v2_x1_0',\n",
       " 'shufflenet_v2_x1_5',\n",
       " 'shufflenet_v2_x2_0',\n",
       " 'shufflenetv2',\n",
       " 'squeezenet',\n",
       " 'squeezenet1_0',\n",
       " 'squeezenet1_1',\n",
       " 'utils',\n",
       " 'vgg',\n",
       " 'vgg11',\n",
       " 'vgg11_bn',\n",
       " 'vgg13',\n",
       " 'vgg13_bn',\n",
       " 'vgg16',\n",
       " 'vgg16_bn',\n",
       " 'vgg19',\n",
       " 'vgg19_bn',\n",
       " 'video',\n",
       " 'wide_resnet101_2',\n",
       " 'wide_resnet50_2']"
      ]
     },
     "execution_count": 10,
     "metadata": {},
     "output_type": "execute_result"
    }
   ],
   "source": [
    "dir(models)"
   ]
  },
  {
   "cell_type": "code",
   "execution_count": 12,
   "id": "allied-brass",
   "metadata": {
    "tags": []
   },
   "outputs": [],
   "source": [
    "today = str(date.today())\n",
    "model = models.densenet121(pretrained=True)\n",
    "model.classifier = nn.Linear(1024, 5, bias=True)"
   ]
  },
  {
   "cell_type": "markdown",
   "id": "02ca1d12-a9ce-407f-b6a1-36126f71b7ff",
   "metadata": {
    "jupyter": {
     "outputs_hidden": true
    },
    "tags": []
   },
   "source": [
    "## model"
   ]
  },
  {
   "cell_type": "code",
   "execution_count": 14,
   "id": "bibliographic-equivalent",
   "metadata": {
    "tags": []
   },
   "outputs": [],
   "source": [
    "# from torchsummary import summary\n",
    "# summary(model, input_size = (3, 400, 400), device='cpu')"
   ]
  },
  {
   "cell_type": "code",
   "execution_count": 15,
   "id": "informational-punch",
   "metadata": {
    "tags": []
   },
   "outputs": [],
   "source": [
    "# for param in resnet.parameters():\n",
    "#             param.requires_grad = False\n",
    "        \n",
    "# resnet.fc = nn.Linear(512, 4, bias = True)\n",
    "\n",
    "# for name, param in resnet.named_parameters():\n",
    "#     print(f\"{name} gradient is set to\", param.requires_grad)"
   ]
  },
  {
   "cell_type": "code",
   "execution_count": 16,
   "id": "b7f50bd1-6acc-41de-bde8-f864c24bc737",
   "metadata": {},
   "outputs": [],
   "source": [
    "!cd models"
   ]
  },
  {
   "cell_type": "code",
   "execution_count": 28,
   "id": "fce4a261-293d-4a6f-97de-ffa7ce2f7d63",
   "metadata": {
    "collapsed": true,
    "jupyter": {
     "outputs_hidden": true,
     "source_hidden": true
    },
    "tags": []
   },
   "outputs": [
    {
     "name": "stdout",
     "output_type": "stream",
     "text": [
      "mkdir: cannot create directory ‘/home/oniemann/Cancer_Classifier/models/densenet121’: File exists\n",
      "mkdir: cannot create directory ‘/home/oniemann/Cancer_Classifier/models/densenet121/model_checkpoints’: File exists\n"
     ]
    }
   ],
   "source": [
    "directory = 'densenet121'\n",
    "!mkdir /home/oniemann/Cancer_Classifier/models/$directory\n",
    "!mkdir /home/oniemann/Cancer_Classifier/models/$directory/model_checkpoints"
   ]
  },
  {
   "cell_type": "markdown",
   "id": "eight-binding",
   "metadata": {},
   "source": [
    "# Training Loop"
   ]
  },
  {
   "cell_type": "code",
   "execution_count": 26,
   "id": "077dc6ca-484c-4150-b9ce-94530b80f395",
   "metadata": {
    "tags": []
   },
   "outputs": [
    {
     "data": {
      "text/plain": [
       "True"
      ]
     },
     "execution_count": 26,
     "metadata": {},
     "output_type": "execute_result"
    }
   ],
   "source": [
    "torch.cuda.is_available()\n",
    "#!nvidia-smi"
   ]
  },
  {
   "cell_type": "code",
   "execution_count": 25,
   "id": "7f0bc22d-989f-4a3b-af7d-0b280f7820c1",
   "metadata": {
    "tags": []
   },
   "outputs": [
    {
     "name": "stdout",
     "output_type": "stream",
     "text": [
      "model successfully made it onto GPU\n"
     ]
    }
   ],
   "source": [
    "device = torch.device(0)\n",
    "model.to(device)\n",
    "print(\"model successfully made it onto GPU\")"
   ]
  },
  {
   "cell_type": "code",
   "execution_count": 29,
   "id": "successful-murray",
   "metadata": {},
   "outputs": [],
   "source": [
    "def one_pass(model, dataloader, optimizer, lossFun, lrs, idx, backwards=True, print_loss=False):\n",
    "    if backwards == True:\n",
    "        model.train()\n",
    "    else:\n",
    "        model.eval()\n",
    "    \n",
    "    total_loss = 0.0\n",
    "    for x, y in tqdm(dataloader):\n",
    "        #if backwards == True:\n",
    "            #lr = lrs[idx]\n",
    "            #update_optimizer(optimizer, lr)\n",
    "            \n",
    "        x, y = x.to(device), y.to(device)\n",
    "        \n",
    "        y_pred = model(x)\n",
    "        loss = lossFun(y_pred, y)\n",
    "        total_loss += loss.item()\n",
    "        \n",
    "        if backwards == True:\n",
    "            optimizer.zero_grad()\n",
    "            loss.backward()\n",
    "            optimizer.step()\n",
    "            idx += 1\n",
    "            \n",
    "    avg_loss = total_loss / len(dataloader)\n",
    "    \n",
    "    if print_loss == True:\n",
    "        print(avg_loss)\n",
    "    \n",
    "    return avg_loss, idx\n",
    "\n",
    "def one_pass_acc(model, dataloader, num_points):\n",
    "    model.eval()\n",
    "    total_incorrect = 0\n",
    "    \n",
    "    softmax = nn.LogSoftmax(dim=1)\n",
    "    \n",
    "    for x, y in dataloader:\n",
    "        x, y = x.to(device), y.to(device)\n",
    "        y_pred = softmax(model(x))\n",
    "        y_pred = torch.argmax(y_pred, dim=1)\n",
    "        \n",
    "        total_incorrect += torch.count_nonzero(y - y_pred).item()\n",
    "        \n",
    "    percent_wrong = total_incorrect / num_points\n",
    "    return 1 - percent_wrong"
   ]
  },
  {
   "cell_type": "markdown",
   "id": "f21d6dbf-2810-4b62-a573-4a8d5ff61b48",
   "metadata": {},
   "source": [
    "# Training the Single Multi-Class Model:\n",
    "\n",
    "- The following cells were used to both identify the best pretrained baseline model and act as a representative for future baseline multi-class tasks"
   ]
  },
  {
   "cell_type": "code",
   "execution_count": 31,
   "id": "82f5cb77-da2c-4242-804c-5cd4630e451c",
   "metadata": {
    "collapsed": true,
    "jupyter": {
     "outputs_hidden": true
    },
    "tags": []
   },
   "outputs": [
    {
     "data": {
      "application/vnd.jupyter.widget-view+json": {
       "model_id": "2e7f4ea4499d4964bef21f86b8c7fe2d",
       "version_major": 2,
       "version_minor": 0
      },
      "text/plain": [
       "0it [00:00, ?it/s]"
      ]
     },
     "metadata": {},
     "output_type": "display_data"
    },
    {
     "name": "stdout",
     "output_type": "stream",
     "text": [
      "Epoch:  0\n"
     ]
    },
    {
     "data": {
      "application/vnd.jupyter.widget-view+json": {
       "model_id": "08b2ef1cbe9f4bc28ba29af1c3936780",
       "version_major": 2,
       "version_minor": 0
      },
      "text/plain": [
       "  0%|          | 0/879 [00:00<?, ?it/s]"
      ]
     },
     "metadata": {},
     "output_type": "display_data"
    },
    {
     "name": "stdout",
     "output_type": "stream",
     "text": [
      "Train loss:  0.7565150805945011\n"
     ]
    },
    {
     "data": {
      "application/vnd.jupyter.widget-view+json": {
       "model_id": "ffd94b0460ea42ee99caeab6072f708c",
       "version_major": 2,
       "version_minor": 0
      },
      "text/plain": [
       "  0%|          | 0/293 [00:00<?, ?it/s]"
      ]
     },
     "metadata": {},
     "output_type": "display_data"
    },
    {
     "name": "stdout",
     "output_type": "stream",
     "text": [
      "Valid loss:  7.847371351189988\n",
      "Train Acc:  0.6966787568451747\n",
      "Valid Acc:  0.028156996587030747\n",
      "Epoch:  1\n"
     ]
    },
    {
     "data": {
      "application/vnd.jupyter.widget-view+json": {
       "model_id": "72033a615af5483b84c34993c9080398",
       "version_major": 2,
       "version_minor": 0
      },
      "text/plain": [
       "  0%|          | 0/879 [00:00<?, ?it/s]"
      ]
     },
     "metadata": {},
     "output_type": "display_data"
    },
    {
     "name": "stdout",
     "output_type": "stream",
     "text": [
      "Train loss:  0.4525623443420972\n"
     ]
    },
    {
     "data": {
      "application/vnd.jupyter.widget-view+json": {
       "model_id": "a3f5ab0c96124945b9cd70ee98bd2408",
       "version_major": 2,
       "version_minor": 0
      },
      "text/plain": [
       "  0%|          | 0/293 [00:00<?, ?it/s]"
      ]
     },
     "metadata": {},
     "output_type": "display_data"
    },
    {
     "name": "stdout",
     "output_type": "stream",
     "text": [
      "Valid loss:  8.709438563206904\n",
      "Train Acc:  0.8517175165350971\n",
      "Valid Acc:  0.1772610921501706\n",
      "Epoch:  2\n"
     ]
    },
    {
     "data": {
      "application/vnd.jupyter.widget-view+json": {
       "model_id": "0d3947f3893e4ed5ad0f62fe513dc1e4",
       "version_major": 2,
       "version_minor": 0
      },
      "text/plain": [
       "  0%|          | 0/879 [00:00<?, ?it/s]"
      ]
     },
     "metadata": {},
     "output_type": "display_data"
    },
    {
     "name": "stdout",
     "output_type": "stream",
     "text": [
      "Train loss:  0.3726421116901068\n"
     ]
    },
    {
     "data": {
      "application/vnd.jupyter.widget-view+json": {
       "model_id": "4b22e9a51c76418aa6e976c8f23dee80",
       "version_major": 2,
       "version_minor": 0
      },
      "text/plain": [
       "  0%|          | 0/293 [00:00<?, ?it/s]"
      ]
     },
     "metadata": {},
     "output_type": "display_data"
    },
    {
     "name": "stdout",
     "output_type": "stream",
     "text": [
      "Valid loss:  10.23386074984033\n",
      "Train Acc:  0.7811677690064718\n",
      "Valid Acc:  0.09087030716723554\n",
      "Epoch:  3\n"
     ]
    },
    {
     "data": {
      "application/vnd.jupyter.widget-view+json": {
       "model_id": "0b9a842ea5bd44c0930391f91d45b302",
       "version_major": 2,
       "version_minor": 0
      },
      "text/plain": [
       "  0%|          | 0/879 [00:00<?, ?it/s]"
      ]
     },
     "metadata": {},
     "output_type": "display_data"
    },
    {
     "name": "stdout",
     "output_type": "stream",
     "text": [
      "Train loss:  0.3475946295493631\n"
     ]
    },
    {
     "data": {
      "application/vnd.jupyter.widget-view+json": {
       "model_id": "037119c2bfd342409b3f462feb20c4ef",
       "version_major": 2,
       "version_minor": 0
      },
      "text/plain": [
       "  0%|          | 0/293 [00:00<?, ?it/s]"
      ]
     },
     "metadata": {},
     "output_type": "display_data"
    },
    {
     "name": "stdout",
     "output_type": "stream",
     "text": [
      "Valid loss:  10.436436739391027\n",
      "Train Acc:  0.8229855629044875\n",
      "Valid Acc:  0.1710750853242321\n",
      "Epoch:  4\n"
     ]
    },
    {
     "data": {
      "application/vnd.jupyter.widget-view+json": {
       "model_id": "57e6cf9f6bc14330aed4deef6fc7b072",
       "version_major": 2,
       "version_minor": 0
      },
      "text/plain": [
       "  0%|          | 0/879 [00:00<?, ?it/s]"
      ]
     },
     "metadata": {},
     "output_type": "display_data"
    },
    {
     "name": "stdout",
     "output_type": "stream",
     "text": [
      "Train loss:  0.32152573057620937\n"
     ]
    },
    {
     "data": {
      "application/vnd.jupyter.widget-view+json": {
       "model_id": "353f51b12ed749fb921f3fada828c19b",
       "version_major": 2,
       "version_minor": 0
      },
      "text/plain": [
       "  0%|          | 0/293 [00:00<?, ?it/s]"
      ]
     },
     "metadata": {},
     "output_type": "display_data"
    },
    {
     "name": "stdout",
     "output_type": "stream",
     "text": [
      "Valid loss:  11.615591351896423\n",
      "Train Acc:  0.824407936846597\n",
      "Valid Acc:  0.1715017064846417\n",
      "Epoch:  5\n"
     ]
    },
    {
     "data": {
      "application/vnd.jupyter.widget-view+json": {
       "model_id": "ea80aaf1d37241858a2e028963220a48",
       "version_major": 2,
       "version_minor": 0
      },
      "text/plain": [
       "  0%|          | 0/879 [00:00<?, ?it/s]"
      ]
     },
     "metadata": {},
     "output_type": "display_data"
    },
    {
     "name": "stdout",
     "output_type": "stream",
     "text": [
      "Train loss:  0.30416974107882133\n"
     ]
    },
    {
     "data": {
      "application/vnd.jupyter.widget-view+json": {
       "model_id": "8450aaa102e64c298220ab2f293e71d2",
       "version_major": 2,
       "version_minor": 0
      },
      "text/plain": [
       "  0%|          | 0/293 [00:00<?, ?it/s]"
      ]
     },
     "metadata": {},
     "output_type": "display_data"
    },
    {
     "name": "stdout",
     "output_type": "stream",
     "text": [
      "Valid loss:  10.56379355993694\n",
      "Train Acc:  0.9084702368252614\n",
      "Valid Acc:  0.20968430034129693\n",
      "Epoch:  6\n"
     ]
    },
    {
     "data": {
      "application/vnd.jupyter.widget-view+json": {
       "model_id": "8338b6e9c2254722b1bf818f6fa883b7",
       "version_major": 2,
       "version_minor": 0
      },
      "text/plain": [
       "  0%|          | 0/879 [00:00<?, ?it/s]"
      ]
     },
     "metadata": {},
     "output_type": "display_data"
    },
    {
     "name": "stdout",
     "output_type": "stream",
     "text": [
      "Train loss:  0.2777005713814456\n"
     ]
    },
    {
     "data": {
      "application/vnd.jupyter.widget-view+json": {
       "model_id": "1a6400ab992342e3b48356364c4647f2",
       "version_major": 2,
       "version_minor": 0
      },
      "text/plain": [
       "  0%|          | 0/293 [00:00<?, ?it/s]"
      ]
     },
     "metadata": {},
     "output_type": "display_data"
    },
    {
     "name": "stdout",
     "output_type": "stream",
     "text": [
      "Valid loss:  11.58653934823775\n",
      "Train Acc:  0.8539221961453667\n",
      "Valid Acc:  0.2037116040955631\n",
      "Epoch:  7\n"
     ]
    },
    {
     "data": {
      "application/vnd.jupyter.widget-view+json": {
       "model_id": "5f2eb800656945a788eb619ff72b9a7c",
       "version_major": 2,
       "version_minor": 0
      },
      "text/plain": [
       "  0%|          | 0/879 [00:00<?, ?it/s]"
      ]
     },
     "metadata": {},
     "output_type": "display_data"
    },
    {
     "name": "stdout",
     "output_type": "stream",
     "text": [
      "Train loss:  0.27386252147244106\n"
     ]
    },
    {
     "data": {
      "application/vnd.jupyter.widget-view+json": {
       "model_id": "ac22d1292540492b97aa903c80a2af20",
       "version_major": 2,
       "version_minor": 0
      },
      "text/plain": [
       "  0%|          | 0/293 [00:00<?, ?it/s]"
      ]
     },
     "metadata": {},
     "output_type": "display_data"
    },
    {
     "name": "stdout",
     "output_type": "stream",
     "text": [
      "Valid loss:  9.52670332026563\n",
      "Train Acc:  0.749662186188749\n",
      "Valid Acc:  0.10174914675767921\n",
      "Epoch:  8\n"
     ]
    },
    {
     "data": {
      "application/vnd.jupyter.widget-view+json": {
       "model_id": "2935c833791046839479c6c0a3f5d248",
       "version_major": 2,
       "version_minor": 0
      },
      "text/plain": [
       "  0%|          | 0/879 [00:00<?, ?it/s]"
      ]
     },
     "metadata": {},
     "output_type": "display_data"
    },
    {
     "name": "stdout",
     "output_type": "stream",
     "text": [
      "Train loss:  0.24962360047193857\n"
     ]
    },
    {
     "data": {
      "application/vnd.jupyter.widget-view+json": {
       "model_id": "1d10ef59e69846dd81830f9d10d2589e",
       "version_major": 2,
       "version_minor": 0
      },
      "text/plain": [
       "  0%|          | 0/293 [00:00<?, ?it/s]"
      ]
     },
     "metadata": {},
     "output_type": "display_data"
    },
    {
     "name": "stdout",
     "output_type": "stream",
     "text": [
      "Valid loss:  20.374847607401044\n",
      "Train Acc:  0.5340302965649669\n",
      "Valid Acc:  0.2239761092150171\n",
      "Epoch:  9\n"
     ]
    },
    {
     "data": {
      "application/vnd.jupyter.widget-view+json": {
       "model_id": "3a9cf604109440a6891da7c6a292e000",
       "version_major": 2,
       "version_minor": 0
      },
      "text/plain": [
       "  0%|          | 0/879 [00:00<?, ?it/s]"
      ]
     },
     "metadata": {},
     "output_type": "display_data"
    },
    {
     "name": "stdout",
     "output_type": "stream",
     "text": [
      "Train loss:  0.25939175018890254\n"
     ]
    },
    {
     "data": {
      "application/vnd.jupyter.widget-view+json": {
       "model_id": "bd054cdd059a45eeb55f7472441fdf88",
       "version_major": 2,
       "version_minor": 0
      },
      "text/plain": [
       "  0%|          | 0/293 [00:00<?, ?it/s]"
      ]
     },
     "metadata": {},
     "output_type": "display_data"
    },
    {
     "name": "stdout",
     "output_type": "stream",
     "text": [
      "Valid loss:  9.988693709259554\n",
      "Train Acc:  0.9085413555223668\n",
      "Valid Acc:  0.20904436860068254\n"
     ]
    }
   ],
   "source": [
    "lossFun = nn.CrossEntropyLoss()\n",
    "\n",
    "params_to_update = []\n",
    "\n",
    "for param in model.parameters():\n",
    "    if param.requires_grad == True:\n",
    "        params_to_update.append(param)\n",
    "        \n",
    "optimizer = optim.AdamW(params_to_update, lr=0.01)\n",
    "\n",
    "num_epochs = 10\n",
    "train_losses = []\n",
    "valid_losses = []\n",
    "train_accs = []\n",
    "valid_accs = []\n",
    "\n",
    "iterations = num_epochs*len(dl_train)\n",
    "lrs = get_cosine_triangular_lr(max_lr=0.01, iterations=iterations)\n",
    "idx = 0\n",
    "\n",
    "for i, epoch in tqdm(enumerate(range(num_epochs))):\n",
    "    print('Epoch: ', epoch)\n",
    "    \n",
    "    train_loss, idx = one_pass(model, dl_train, optimizer, lossFun, lrs, idx)\n",
    "    train_losses.append(train_loss)\n",
    "    print('Train loss: ', train_loss)\n",
    "    \n",
    "    valid_loss, idx = one_pass(model, dl_valid, optimizer, lossFun, lrs=None, idx=idx, backwards=False)\n",
    "    valid_losses.append(valid_loss)\n",
    "    print('Valid loss: ', valid_loss)\n",
    "    \n",
    "    train_acc = one_pass_acc(model, dl_train, len(ds_train))\n",
    "    valid_acc = one_pass_acc(model, dl_valid, len(ds_valid))\n",
    "    print('Train Acc: ', train_acc)\n",
    "    print('Valid Acc: ', valid_acc)\n",
    "    \n",
    "    train_losses.append(train_loss)\n",
    "    train_accs.append(train_acc)\n",
    "    valid_losses.append(valid_loss)\n",
    "    valid_accs.append(valid_acc)\n",
    "    \n",
    "    # Save model for the epoch\n",
    "    model_name = f'models/{directory}/{today}_epoch_{epoch}_tacc_{train_acc:.2f}_vacc_{valid_acc:.2f}.pkl'\n",
    "    pickle.dump(model, open(model_name, 'wb'))\n",
    "    \n",
    "    # Parameter Checkpoint\n",
    "    checkpoint = {'model_state_dict': model.state_dict(),\n",
    "                  'optimizer_state_dict' :optimizer.state_dict()}\n",
    "    torch.save(checkpoint, f'models/{directory}/model_checkpoints/{today}_epoch_{epoch}.pt')"
   ]
  },
  {
   "cell_type": "markdown",
   "id": "eb679d14-b18e-4bd6-bb05-85aff905a44f",
   "metadata": {},
   "source": [
    "Deciding on model architecture:\n",
    "====\n",
    "\n",
    "- Strategy 1: Train a single model with all classes (lung_aca, lung_scc, lung_n, colon_aca, colon_n)\n",
    "\n",
    "- Strategy 2: Train one model to detect lung cancer (lung_aca, lung_scc, lung_n) and another to detect colon cancer (colon_aca, colon_n).\n",
    "    - Assumption: In production, the model will be given labels differentiating colon tissue xrays from lung tissue xrays"
   ]
  },
  {
   "cell_type": "code",
   "execution_count": null,
   "id": "7b4a7c60-0eee-42e0-97a5-3c7ae2643ce3",
   "metadata": {},
   "outputs": [],
   "source": [
    "model = models.resnet18(pretrained=True)\n",
    "model.classifier = nn.Linear(1024, 5, bias=True)"
   ]
  },
  {
   "cell_type": "markdown",
   "id": "f3059b08-1128-4481-8f0c-d48c0b28f645",
   "metadata": {},
   "source": [
    "Strategy 2: Two Models\n",
    "----\n",
    "\n",
    "- We first need to split the data into two sets by image location (colon, lung):"
   ]
  },
  {
   "cell_type": "code",
   "execution_count": 8,
   "id": "d43fdbc0-5693-4ba3-b314-4aaeb823b729",
   "metadata": {},
   "outputs": [],
   "source": [
    "df['location'] = df['label'].map(lambda x: x.split(\"_\")[0])\n",
    "df_lung = df[df['location'] == 'lung']\n",
    "df_colon = df[df['location'] == 'colon']"
   ]
  },
  {
   "cell_type": "markdown",
   "id": "fec66373-8f4d-468c-8e79-851b47ced0e2",
   "metadata": {},
   "source": [
    "- one pass was updated so that loss and accuracy are trained in the same loop (computational efficiency)"
   ]
  },
  {
   "cell_type": "code",
   "execution_count": 24,
   "id": "2f06ffdc-80a1-4497-b61d-3d180c1a24e5",
   "metadata": {},
   "outputs": [],
   "source": [
    "lung_train, lung_valid = train_test_split(df_lung)\n",
    "lung_train['label'].value_counts()\n",
    "\n",
    "lung_train_ds = CancerImagesDataset(lung_train)\n",
    "lung_train_dl = DataLoader(lung_train_ds, batch_size=16)\n",
    "\n",
    "lung_valid_ds = CancerImagesDataset(lung_valid)\n",
    "lung_valid_dl = DataLoader(lung_valid_ds, batch_size=16)"
   ]
  },
  {
   "cell_type": "code",
   "execution_count": 25,
   "id": "d2bfc0f0-e0c3-4b12-96a5-ca4f8fed4d96",
   "metadata": {},
   "outputs": [],
   "source": [
    "colon_train, colon_valid = train_test_split(df_colon)\n",
    "colon_train['label'].value_counts()\n",
    "\n",
    "colon_train_ds = CancerImagesDataset(colon_train)\n",
    "colon_train_dl = DataLoader(colon_train_ds, batch_size=16)\n",
    "\n",
    "colon_valid_ds = CancerImagesDataset(colon_valid)\n",
    "colon_valid_dl = DataLoader(colon_valid_ds, batch_size=16)"
   ]
  },
  {
   "cell_type": "code",
   "execution_count": 24,
   "id": "66dc3ba2-b1b3-49db-a990-fcea7d115659",
   "metadata": {
    "tags": []
   },
   "outputs": [],
   "source": [
    "def one_pass_train_valid(model, train_dl, valid_dl, optimizer, lossFun, class_type, device):\n",
    "    \n",
    "    model.train()\n",
    "    \n",
    "    losses = []\n",
    "    accuracies = []\n",
    "    y_preds = []\n",
    "    for x, y in tqdm(train_dl):    \n",
    "        x, y = x.to(device), y.to(device)\n",
    "        \n",
    "#         print(y.shape)\n",
    "\n",
    "        y_pred = model(x)\n",
    "        if class_type == 'binary':\n",
    "            y = y.float()\n",
    "            y_pred = y_pred.squeeze()\n",
    "\n",
    "        loss = lossFun(y_pred, y)\n",
    "        losses.append(loss.item())\n",
    "        \n",
    "        if class_type == 'binary':\n",
    "            y_pred = nn.Sigmoid()(y_pred)\n",
    "            y_pred[y_pred >= 0.5] = 1.\n",
    "            y_pred[y_pred<0.5] = 0.\n",
    "\n",
    "        else:\n",
    "            y_pred = torch.argmax(y_pred, dim=1)\n",
    "\n",
    "    \n",
    "        acc = (y_pred == y).sum() / len(y)\n",
    "        accuracies.append(acc.item())\n",
    "        \n",
    "        optimizer.zero_grad()\n",
    "        loss.backward()\n",
    "        optimizer.step()\n",
    "        \n",
    "\n",
    "    train_acc = sum(accuracies) / len(accuracies)\n",
    "    train_loss = sum(losses) / len(losses)\n",
    "    \n",
    "    model.eval()\n",
    "    \n",
    "    losses = []\n",
    "    accuracies = []\n",
    "    \n",
    "    for x, y in tqdm(valid_dl):\n",
    "        x, y = x.to(device), y.to(device)\n",
    "        \n",
    "        y_pred = model(x)\n",
    "        if class_type == 'binary':\n",
    "            y = y.float()\n",
    "            y_pred = y_pred.squeeze()\n",
    "            \n",
    "        loss = lossFun(y_pred, y)\n",
    "        losses.append(loss.item())\n",
    "        \n",
    "        if class_type == 'binary':\n",
    "            y_pred = nn.Sigmoid()(y_pred)\n",
    "            y_pred[y_pred >= 0.5] = 1.\n",
    "            y_pred[y_pred<0.5] = 0.\n",
    "\n",
    "        else:\n",
    "            y_pred = torch.argmax(y_pred, dim=1)\n",
    "\n",
    "        acc = (y_pred == y).sum() / len(y)\n",
    "        accuracies.append(acc.item())\n",
    "        \n",
    "    valid_acc = sum(accuracies) / len(accuracies)\n",
    "    valid_loss = sum(losses) / len(losses)\n",
    "    \n",
    "    return train_loss, train_acc, valid_loss, valid_acc"
   ]
  },
  {
   "cell_type": "markdown",
   "id": "b84a75ee-59ec-4662-aa84-7fc75e850f8e",
   "metadata": {},
   "source": [
    "Model 1: Lung Cancer Classifier (Multi-Class Classification)\n",
    "----"
   ]
  },
  {
   "cell_type": "code",
   "execution_count": 26,
   "id": "69f04dae-fb97-4fe6-990c-1f19439c5d29",
   "metadata": {},
   "outputs": [
    {
     "data": {
      "text/plain": [
       "2531262464"
      ]
     },
     "execution_count": 26,
     "metadata": {},
     "output_type": "execute_result"
    }
   ],
   "source": [
    "torch.cuda.memory_cached()"
   ]
  },
  {
   "cell_type": "code",
   "execution_count": 48,
   "id": "5a97f1d3-c2cd-41e1-bd75-d0c5d0b16267",
   "metadata": {},
   "outputs": [
    {
     "data": {
      "application/vnd.jupyter.widget-view+json": {
       "model_id": "c63fb9b5d64f4429aaa7ee5155f663ca",
       "version_major": 2,
       "version_minor": 0
      },
      "text/plain": [
       "  0%|          | 0/5 [00:00<?, ?it/s]"
      ]
     },
     "metadata": {},
     "output_type": "display_data"
    },
    {
     "data": {
      "application/vnd.jupyter.widget-view+json": {
       "model_id": "e10119984d0943508590516fded8b968",
       "version_major": 2,
       "version_minor": 0
      },
      "text/plain": [
       "  0%|          | 0/704 [00:00<?, ?it/s]"
      ]
     },
     "metadata": {},
     "output_type": "display_data"
    },
    {
     "data": {
      "application/vnd.jupyter.widget-view+json": {
       "model_id": "56595052e917484fb5339a36073aff1e",
       "version_major": 2,
       "version_minor": 0
      },
      "text/plain": [
       "  0%|          | 0/235 [00:00<?, ?it/s]"
      ]
     },
     "metadata": {},
     "output_type": "display_data"
    },
    {
     "data": {
      "application/vnd.jupyter.widget-view+json": {
       "model_id": "7bf01f269b82441cbee1700797117a06",
       "version_major": 2,
       "version_minor": 0
      },
      "text/plain": [
       "  0%|          | 0/704 [00:00<?, ?it/s]"
      ]
     },
     "metadata": {},
     "output_type": "display_data"
    },
    {
     "data": {
      "application/vnd.jupyter.widget-view+json": {
       "model_id": "43488119c35d4de19854fba0e5f3912f",
       "version_major": 2,
       "version_minor": 0
      },
      "text/plain": [
       "  0%|          | 0/235 [00:00<?, ?it/s]"
      ]
     },
     "metadata": {},
     "output_type": "display_data"
    },
    {
     "data": {
      "application/vnd.jupyter.widget-view+json": {
       "model_id": "8e5c070587db40a59ffe8642a13bad0f",
       "version_major": 2,
       "version_minor": 0
      },
      "text/plain": [
       "  0%|          | 0/704 [00:00<?, ?it/s]"
      ]
     },
     "metadata": {},
     "output_type": "display_data"
    },
    {
     "data": {
      "application/vnd.jupyter.widget-view+json": {
       "model_id": "da77cf53b6904ce78deb3c79c867d59a",
       "version_major": 2,
       "version_minor": 0
      },
      "text/plain": [
       "  0%|          | 0/235 [00:00<?, ?it/s]"
      ]
     },
     "metadata": {},
     "output_type": "display_data"
    },
    {
     "data": {
      "application/vnd.jupyter.widget-view+json": {
       "model_id": "bda077bb338e4576b845b92e39bc3242",
       "version_major": 2,
       "version_minor": 0
      },
      "text/plain": [
       "  0%|          | 0/704 [00:00<?, ?it/s]"
      ]
     },
     "metadata": {},
     "output_type": "display_data"
    },
    {
     "data": {
      "application/vnd.jupyter.widget-view+json": {
       "model_id": "b69025106eed43559d186a8a83c12b7e",
       "version_major": 2,
       "version_minor": 0
      },
      "text/plain": [
       "  0%|          | 0/235 [00:00<?, ?it/s]"
      ]
     },
     "metadata": {},
     "output_type": "display_data"
    },
    {
     "data": {
      "application/vnd.jupyter.widget-view+json": {
       "model_id": "eec114a9af5c4e98b29eedd213a32be3",
       "version_major": 2,
       "version_minor": 0
      },
      "text/plain": [
       "  0%|          | 0/704 [00:00<?, ?it/s]"
      ]
     },
     "metadata": {},
     "output_type": "display_data"
    },
    {
     "data": {
      "application/vnd.jupyter.widget-view+json": {
       "model_id": "5e0c7fe3779449799669252119419296",
       "version_major": 2,
       "version_minor": 0
      },
      "text/plain": [
       "  0%|          | 0/235 [00:00<?, ?it/s]"
      ]
     },
     "metadata": {},
     "output_type": "display_data"
    }
   ],
   "source": [
    "# lung_model = models.resnet18(pretrained=True)\n",
    "# lung_model.fc = nn.Linear(512, 3)\n",
    "\n",
    "# device = torch.device(0)\n",
    "# lung_model.to(device)\n",
    "\n",
    "lossFun = nn.CrossEntropyLoss()\n",
    "\n",
    "params_to_update = []\n",
    "\n",
    "for param in lung_model.parameters():\n",
    "    if param.requires_grad == True:\n",
    "        params_to_update.append(param)\n",
    "        \n",
    "optimizer = optim.AdamW(params_to_update, lr=0.01)\n",
    "\n",
    "num_epochs = 5\n",
    "# tl1 = []\n",
    "# vl1 = []\n",
    "# ta1 = []\n",
    "# va1 = []\n",
    "\n",
    "for i in tqdm(range(num_epochs)):\n",
    "    train_loss, train_acc, valid_loss, valid_acc = one_pass_train_valid(lung_model, lung_train_dl, lung_valid_dl, optimizer, lossFun, class_type='multiclass', device=device)\n",
    "    tl1.append(train_loss)\n",
    "    vl1.append(valid_loss)\n",
    "    ta1.append(train_acc)\n",
    "    va1.append(valid_acc)"
   ]
  },
  {
   "cell_type": "markdown",
   "id": "b8433d77-0ed3-4964-8dee-4084249451a2",
   "metadata": {},
   "source": [
    "Model 2: Colon Cancer Classifier (Binary Classification)\n",
    "----"
   ]
  },
  {
   "cell_type": "code",
   "execution_count": 49,
   "id": "75fb6a2c-2312-46da-99c2-8ce08226b469",
   "metadata": {},
   "outputs": [
    {
     "data": {
      "application/vnd.jupyter.widget-view+json": {
       "model_id": "e7a18a9696a8410ebee8308df6269adb",
       "version_major": 2,
       "version_minor": 0
      },
      "text/plain": [
       "  0%|          | 0/469 [00:00<?, ?it/s]"
      ]
     },
     "metadata": {},
     "output_type": "display_data"
    },
    {
     "data": {
      "application/vnd.jupyter.widget-view+json": {
       "model_id": "8aef480820734b87acc7f186224f671c",
       "version_major": 2,
       "version_minor": 0
      },
      "text/plain": [
       "  0%|          | 0/157 [00:00<?, ?it/s]"
      ]
     },
     "metadata": {},
     "output_type": "display_data"
    },
    {
     "data": {
      "application/vnd.jupyter.widget-view+json": {
       "model_id": "38ca99fb9746416bae1e6b7ac43949e7",
       "version_major": 2,
       "version_minor": 0
      },
      "text/plain": [
       "  0%|          | 0/469 [00:00<?, ?it/s]"
      ]
     },
     "metadata": {},
     "output_type": "display_data"
    },
    {
     "data": {
      "application/vnd.jupyter.widget-view+json": {
       "model_id": "7dd26e600899416696739065e4806c6b",
       "version_major": 2,
       "version_minor": 0
      },
      "text/plain": [
       "  0%|          | 0/157 [00:00<?, ?it/s]"
      ]
     },
     "metadata": {},
     "output_type": "display_data"
    },
    {
     "data": {
      "application/vnd.jupyter.widget-view+json": {
       "model_id": "3845b181df334cdeb5fd9cd3a9acea20",
       "version_major": 2,
       "version_minor": 0
      },
      "text/plain": [
       "  0%|          | 0/469 [00:00<?, ?it/s]"
      ]
     },
     "metadata": {},
     "output_type": "display_data"
    },
    {
     "data": {
      "application/vnd.jupyter.widget-view+json": {
       "model_id": "3de750f155ce4e95a06b8f72ad490d68",
       "version_major": 2,
       "version_minor": 0
      },
      "text/plain": [
       "  0%|          | 0/157 [00:00<?, ?it/s]"
      ]
     },
     "metadata": {},
     "output_type": "display_data"
    },
    {
     "data": {
      "application/vnd.jupyter.widget-view+json": {
       "model_id": "72908300bb3b4873b7c2c8c434fe441e",
       "version_major": 2,
       "version_minor": 0
      },
      "text/plain": [
       "  0%|          | 0/469 [00:00<?, ?it/s]"
      ]
     },
     "metadata": {},
     "output_type": "display_data"
    },
    {
     "data": {
      "application/vnd.jupyter.widget-view+json": {
       "model_id": "8e5f0aad25ff446fac22440f2b1cd815",
       "version_major": 2,
       "version_minor": 0
      },
      "text/plain": [
       "  0%|          | 0/157 [00:00<?, ?it/s]"
      ]
     },
     "metadata": {},
     "output_type": "display_data"
    },
    {
     "data": {
      "application/vnd.jupyter.widget-view+json": {
       "model_id": "d2fd6a72333e4cffb6cb1daef6f1fafa",
       "version_major": 2,
       "version_minor": 0
      },
      "text/plain": [
       "  0%|          | 0/469 [00:00<?, ?it/s]"
      ]
     },
     "metadata": {},
     "output_type": "display_data"
    },
    {
     "data": {
      "application/vnd.jupyter.widget-view+json": {
       "model_id": "15d3d401eaea450eb017a0445cae5b9f",
       "version_major": 2,
       "version_minor": 0
      },
      "text/plain": [
       "  0%|          | 0/157 [00:00<?, ?it/s]"
      ]
     },
     "metadata": {},
     "output_type": "display_data"
    }
   ],
   "source": [
    "# colon_model = models.resnet18(pretrained=True)\n",
    "# colon_model.fc = nn.Linear(512, 1)\n",
    "\n",
    "# device = torch.device(0)\n",
    "# colon_model.to(device)\n",
    "\n",
    "lossFun = nn.BCEWithLogitsLoss()\n",
    "\n",
    "params_to_update = []\n",
    "\n",
    "for param in colon_model.parameters():\n",
    "    if param.requires_grad == True:\n",
    "        params_to_update.append(param)\n",
    "        \n",
    "optimizer = optim.AdamW(params_to_update, lr=0.01)\n",
    "\n",
    "# tl2 = []\n",
    "# vl2 = []\n",
    "# ta2 = []\n",
    "# va2 = []\n",
    "\n",
    "for i in range(num_epochs):\n",
    "    one_pass_train_valid(colon_model, colon_train_dl, colon_valid_dl, optimizer, lossFun, class_type='binary', device=device)\n",
    "    tl2.append(train_loss)\n",
    "    vl2.append(valid_loss)\n",
    "    ta2.append(train_acc)\n",
    "    va2.append(valid_acc)"
   ]
  },
  {
   "cell_type": "markdown",
   "id": "2544f8bf-2a94-4aa6-8678-de8de758a2e0",
   "metadata": {},
   "source": [
    "Making Predictions:\n",
    "----\n",
    "\n",
    "- Because the losses are on the same scale, I will be taking the average of the two to compare to the single classifier:\n",
    "\n",
    "$$loss = \\frac{loss_{colon} + loss_{lung}}{2}$$\n",
    "\n",
    "\n",
    "- The accuracy, on the other hand, will be weighed by the number of predictions for each dataset:\n",
    "\n",
    "$$accuracy = \\frac{len(colon_{valid}) * acc_{colon} + len(lung_{valid}) * acc_{lung}}{len(colon_{valid})+len(lung_{valid})} $$"
   ]
  },
  {
   "cell_type": "code",
   "execution_count": 35,
   "id": "0d4d7428-d959-4b18-a663-1c0be33a762b",
   "metadata": {},
   "outputs": [],
   "source": [
    "def avg_loss(l_colon, l_lung):\n",
    "    return [(i+j)/2 for i, j in zip(l_colon, l_lung)]\n",
    "\n",
    "def avg_acc(acc_colon, acc_lung, len_df_colon, len_df_lung):\n",
    "    return [((len_df_colon) * i + (len_df_lung) * j)/(len_df_colon + len_df_lung) for i, j in zip(acc_colon, acc_lung)]"
   ]
  },
  {
   "cell_type": "code",
   "execution_count": 50,
   "id": "6c80b6ac-ef7e-4d0c-a670-8c08799ce0b7",
   "metadata": {},
   "outputs": [],
   "source": [
    "train_loss = avg_loss(tl1, tl2)\n",
    "valid_loss = avg_loss(vl1, vl2)\n",
    "train_acc = avg_acc(ta1, ta2, len(colon_train), len(lung_train))\n",
    "valid_acc = avg_acc(va1, va2, len(colon_valid), len(lung_valid))"
   ]
  },
  {
   "cell_type": "code",
   "execution_count": 51,
   "id": "2a5e7882-9d00-4bf9-a1e8-6c0142bc3bbf",
   "metadata": {},
   "outputs": [
    {
     "data": {
      "image/png": "[encoded data removed]",
      "text/plain": [
       "<Figure size 432x288 with 1 Axes>"
      ]
     },
     "metadata": {},
     "output_type": "display_data"
    }
   ],
   "source": [
    "plt.plot(train_loss, label = 'train')\n",
    "plt.plot(valid_loss, label = 'valid')\n",
    "plt.legend()\n",
    "plt.xlabel('Epochs')\n",
    "plt.title('Combined Average Loss')\n",
    "plt.savefig('figures/combined_average_loss.png')"
   ]
  },
  {
   "cell_type": "code",
   "execution_count": 52,
   "id": "72e7f9e2-e525-452a-a729-b449b2d21485",
   "metadata": {
    "tags": []
   },
   "outputs": [
    {
     "data": {
      "image/png": "[encoded data removed]",
      "text/plain": [
       "<Figure size 432x288 with 1 Axes>"
      ]
     },
     "metadata": {},
     "output_type": "display_data"
    }
   ],
   "source": [
    "plt.plot(train_acc, label = 'train')\n",
    "plt.plot(valid_acc, label = 'valid')\n",
    "plt.legend()\n",
    "plt.xlabel('Epochs')\n",
    "plt.title('Accuracy (Weighted Average)')\n",
    "plt.savefig('figures/combined_average_accuracy.png')"
   ]
  },
  {
   "cell_type": "markdown",
   "id": "67b5886e-76ac-4d79-9790-fd4a45e2b46a",
   "metadata": {},
   "source": [
    "# Transform the Task into Binary Classification (Presence of Cancer):\n",
    "\n",
    "- Since the model is failing miserably in terms of generalization, maybe it's a good idea to take a few steps back and solely focus on whether an image can be predicted to contain cancer."
   ]
  },
  {
   "cell_type": "code",
   "execution_count": 28,
   "id": "b708da6a-cf5b-42bc-b19b-540160c604ce",
   "metadata": {
    "tags": []
   },
   "outputs": [
    {
     "name": "stdout",
     "output_type": "stream",
     "text": [
      "\n"
     ]
    }
   ],
   "source": [
    "model = models.resnet18(pretrained=True)\n",
    "device = torch.device(0)\n",
    "model.fc = nn.Linear(512, 1, bias=True)\n",
    "model.to(device)\n",
    "print()"
   ]
  },
  {
   "cell_type": "code",
   "execution_count": 7,
   "id": "7ad10b47-7333-4f6a-98f0-28508ff52443",
   "metadata": {},
   "outputs": [
    {
     "data": {
      "text/plain": [
       "Cancer        14999\n",
       "Not Cancer    10000\n",
       "Name: type, dtype: int64"
      ]
     },
     "execution_count": 7,
     "metadata": {},
     "output_type": "execute_result"
    }
   ],
   "source": [
    "df['type'] = df['label'].map(lambda x: 'Not Cancer' if 'n' in x.split('_')[1] else 'Cancer')\n",
    "df['type'].value_counts()"
   ]
  },
  {
   "cell_type": "code",
   "execution_count": 16,
   "id": "d93ca1c7-71c3-497f-b4f4-24c4c35f677d",
   "metadata": {},
   "outputs": [],
   "source": [
    "class BinCancerImagesDataset(Dataset):\n",
    "    def __init__(self, df):\n",
    "        self.df = df\n",
    "        \n",
    "        self.label_dict = {label:idx for idx, label in enumerate(df.type.unique())}\n",
    "        \n",
    "        # Randomly augment images for variety\n",
    "        self.transforms = A.Compose([\n",
    "            # spatial transforms\n",
    "            A.RandomCrop(width=255, height=255),\n",
    "            A.HorizontalFlip(p=.5),\n",
    "            A.VerticalFlip(p=.5),\n",
    "            A.Rotate(limit = 10, \n",
    "                     border_mode = cv2.BORDER_CONSTANT, \n",
    "                     value = 0.0, p = .75),\n",
    "\n",
    "            # pixel-level transformation\n",
    "            A.RandomBrightnessContrast(p=0.1),\n",
    "\n",
    "            # we will normalize according to ImageNet since we will be using a pre-trained ResNet\n",
    "            # this adjusts from [0,255] to [0,1]\n",
    "            A.Normalize(mean=(0.485, 0.456, 0.406), std=(0.229, 0.224, 0.225)),\n",
    "\n",
    "            # convert to a tensor and move color channels\n",
    "            ToTensorV2()\n",
    "        ])\n",
    "        \n",
    "    def __len__(self):\n",
    "        return len(self.df)\n",
    "    \n",
    "    def __getitem__(self, idx):\n",
    "        row = self.df.iloc[idx]\n",
    "        \n",
    "        path = row['image_path'] + f\"/{row['image_file']}\"\n",
    "        \n",
    "        img = cv2.imread(path)\n",
    "        \n",
    "        #img = cv2.cvtColor(img, cv2.COLOR_BGR2RGB)\n",
    "        \n",
    "        transformed = self.transforms(image=img.astype(np.uint8))\n",
    "        img = transformed['image']\n",
    "        \n",
    "        #Scale to v\n",
    "        img = ((img - img.min()) / (img.max()-img.min()))\n",
    "        \n",
    "        label = torch.tensor(self.label_dict[row['type']])\n",
    "        \n",
    "        return img, label"
   ]
  },
  {
   "cell_type": "code",
   "execution_count": 7,
   "id": "315a9392-b75d-4c36-b59b-f5c36dcb5f3a",
   "metadata": {},
   "outputs": [],
   "source": [
    "train_df, valid_df = train_test_split(df)"
   ]
  },
  {
   "cell_type": "code",
   "execution_count": 30,
   "id": "5ebe9f9a-c025-4d32-9c4f-4d1cca9701f7",
   "metadata": {},
   "outputs": [],
   "source": [
    "train_ds = BinCancerImagesDataset(train_df)\n",
    "valid_ds = BinCancerImagesDataset(valid_df)\n",
    "\n",
    "batch_size= 30\n",
    "train_dl = DataLoader(train_ds, batch_size=batch_size, shuffle=True)\n",
    "valid_dl = DataLoader(valid_ds, batch_size=batch_size)"
   ]
  },
  {
   "cell_type": "code",
   "execution_count": 20,
   "id": "9095ea2b-5f59-4796-bca1-417957a69755",
   "metadata": {
    "collapsed": true,
    "jupyter": {
     "outputs_hidden": true
    },
    "tags": []
   },
   "outputs": [
    {
     "ename": "NameError",
     "evalue": "name 'train_dl' is not defined",
     "output_type": "error",
     "traceback": [
      "\u001b[0;31m---------------------------------------------------------------------------\u001b[0m",
      "\u001b[0;31mNameError\u001b[0m                                 Traceback (most recent call last)",
      "\u001b[0;32m<ipython-input-20-a70c95a5482f>\u001b[0m in \u001b[0;36m<module>\u001b[0;34m\u001b[0m\n\u001b[1;32m     21\u001b[0m \u001b[0;34m\u001b[0m\u001b[0m\n\u001b[1;32m     22\u001b[0m \u001b[0;32mfor\u001b[0m \u001b[0mi\u001b[0m \u001b[0;32min\u001b[0m \u001b[0mrange\u001b[0m\u001b[0;34m(\u001b[0m\u001b[0mnum_epochs\u001b[0m\u001b[0;34m)\u001b[0m\u001b[0;34m:\u001b[0m\u001b[0;34m\u001b[0m\u001b[0;34m\u001b[0m\u001b[0m\n\u001b[0;32m---> 23\u001b[0;31m     \u001b[0mtrain_loss\u001b[0m\u001b[0;34m,\u001b[0m \u001b[0mtrain_acc\u001b[0m\u001b[0;34m,\u001b[0m \u001b[0mvalid_loss\u001b[0m\u001b[0;34m,\u001b[0m \u001b[0mvalid_acc\u001b[0m \u001b[0;34m=\u001b[0m \u001b[0mone_pass_train_valid\u001b[0m\u001b[0;34m(\u001b[0m\u001b[0mmodel\u001b[0m\u001b[0;34m,\u001b[0m \u001b[0mtrain_dl\u001b[0m\u001b[0;34m,\u001b[0m \u001b[0mvalid_dl\u001b[0m\u001b[0;34m,\u001b[0m \u001b[0moptimizer\u001b[0m\u001b[0;34m,\u001b[0m \u001b[0mlossFun\u001b[0m\u001b[0;34m,\u001b[0m \u001b[0mclass_type\u001b[0m\u001b[0;34m=\u001b[0m\u001b[0;34m'binary'\u001b[0m\u001b[0;34m,\u001b[0m \u001b[0mdevice\u001b[0m\u001b[0;34m=\u001b[0m\u001b[0mdevice\u001b[0m\u001b[0;34m)\u001b[0m\u001b[0;34m\u001b[0m\u001b[0;34m\u001b[0m\u001b[0m\n\u001b[0m\u001b[1;32m     24\u001b[0m     \u001b[0mtl_bin\u001b[0m\u001b[0;34m.\u001b[0m\u001b[0mappend\u001b[0m\u001b[0;34m(\u001b[0m\u001b[0mtrain_loss\u001b[0m\u001b[0;34m)\u001b[0m\u001b[0;34m\u001b[0m\u001b[0;34m\u001b[0m\u001b[0m\n\u001b[1;32m     25\u001b[0m     \u001b[0mvl_bin\u001b[0m\u001b[0;34m.\u001b[0m\u001b[0mappend\u001b[0m\u001b[0;34m(\u001b[0m\u001b[0mvalid_loss\u001b[0m\u001b[0;34m)\u001b[0m\u001b[0;34m\u001b[0m\u001b[0;34m\u001b[0m\u001b[0m\n",
      "\u001b[0;31mNameError\u001b[0m: name 'train_dl' is not defined"
     ]
    }
   ],
   "source": [
    "model = models.resnet18(pretrained=True)\n",
    "device = torch.device(0)\n",
    "model.fc = nn.Linear(512, 1, bias=True)\n",
    "model.to(device)\n",
    "\n",
    "lossFun = nn.BCEWithLogitsLoss()\n",
    "\n",
    "params_to_update = []\n",
    "\n",
    "for param in model.parameters():\n",
    "    if param.requires_grad == True:\n",
    "        params_to_update.append(param)\n",
    "        \n",
    "optimizer = optim.AdamW(params_to_update, lr=0.01)\n",
    "\n",
    "tl_bin = []\n",
    "vl_bin = []\n",
    "ta_bin = []\n",
    "va_bin = []\n",
    "num_epochs = 10\n",
    "\n",
    "for i in range(num_epochs):\n",
    "    train_loss, train_acc, valid_loss, valid_acc = one_pass_train_valid(model, train_dl, valid_dl, optimizer, lossFun, class_type='binary', device=device)\n",
    "    tl_bin.append(train_loss)\n",
    "    vl_bin.append(valid_loss)\n",
    "    ta_bin.append(train_acc)\n",
    "    va_bin.append(valid_acc)"
   ]
  },
  {
   "cell_type": "code",
   "execution_count": 25,
   "id": "a0fd0e33-8b94-4576-9ccc-4d7f66506161",
   "metadata": {},
   "outputs": [
    {
     "data": {
      "image/png": "[encoded data removed]",
      "text/plain": [
       "<Figure size 432x288 with 1 Axes>"
      ]
     },
     "metadata": {},
     "output_type": "display_data"
    }
   ],
   "source": [
    "plt.plot(tl_bin, label = 'train')\n",
    "plt.plot(vl_bin, label = 'valid')\n",
    "plt.legend()\n",
    "plt.xlabel('Epochs')\n",
    "plt.title('Cancer Presence Loss')\n",
    "plt.savefig('figures/cancer_yes_no_loss.png')"
   ]
  },
  {
   "cell_type": "code",
   "execution_count": 26,
   "id": "c7e3c728-d87b-4ad7-937d-9b9b5fd53c00",
   "metadata": {},
   "outputs": [
    {
     "data": {
      "image/png": "[encoded data removed]",
      "text/plain": [
       "<Figure size 432x288 with 1 Axes>"
      ]
     },
     "metadata": {},
     "output_type": "display_data"
    }
   ],
   "source": [
    "plt.plot(ta_bin, label = 'train')\n",
    "plt.plot(va_bin, label = 'valid')\n",
    "plt.legend()\n",
    "plt.xlabel('Epochs')\n",
    "plt.title('Cancer Identification Accuracy')\n",
    "plt.savefig('figures/cancer_identification_accuracy.png')"
   ]
  },
  {
   "cell_type": "markdown",
   "id": "3e164e1c-79ec-4cad-b0d4-ce16885a907b",
   "metadata": {},
   "source": [
    "- Wow, cancer identification is incredible when turned into a binary classification problem! Let's see how the model performs as a multi-classification task on the different cancers."
   ]
  },
  {
   "cell_type": "markdown",
   "id": "bd938a59-16cf-4842-ad15-e90e594980ed",
   "metadata": {},
   "source": [
    "# Multi-Class Classification (Type of Cancer)\n",
    "\n",
    "-"
   ]
  },
  {
   "cell_type": "code",
   "execution_count": 13,
   "id": "ed88ce93-0e15-47c9-85e7-7bb0aafee154",
   "metadata": {},
   "outputs": [
    {
     "data": {
      "text/plain": [
       "aca    9999\n",
       "scc    5000\n",
       "Name: label, dtype: int64"
      ]
     },
     "execution_count": 13,
     "metadata": {},
     "output_type": "execute_result"
    }
   ],
   "source": [
    "df_cancer = df[df['type'] == 'Cancer'].copy()\n",
    "df_cancer['label'] = df_cancer['label'].map(lambda x: x.split('_')[-1])\n",
    "df_cancer['label'].value_counts()"
   ]
  },
  {
   "cell_type": "code",
   "execution_count": 16,
   "id": "c4d440d0-9ff9-4f90-8fee-16ecb293ddb7",
   "metadata": {},
   "outputs": [],
   "source": [
    "dfc_train, dfc_valid = train_test_split(df_cancer)\n",
    "\n",
    "batch_size = 30\n",
    "dsc_train = CancerImagesDataset(dfc_train)\n",
    "dlc_train = DataLoader(dsc_train, batch_size=batch_size, shuffle=True)\n",
    "\n",
    "dsc_valid = CancerImagesDataset(dfc_valid)\n",
    "dlc_valid = DataLoader(dsc_valid, batch_size=batch_size)"
   ]
  },
  {
   "cell_type": "code",
   "execution_count": 27,
   "id": "5b05cb22-dbbd-44e5-b527-554e6fa0e2da",
   "metadata": {},
   "outputs": [
    {
     "data": {
      "application/vnd.jupyter.widget-view+json": {
       "model_id": "7fc47b19906b4dec9705e7ae2ad0f0ac",
       "version_major": 2,
       "version_minor": 0
      },
      "text/plain": [
       "  0%|          | 0/375 [00:00<?, ?it/s]"
      ]
     },
     "metadata": {},
     "output_type": "display_data"
    },
    {
     "name": "stderr",
     "output_type": "stream",
     "text": [
      "/home/oniemann/deep_learning/lib64/python3.6/site-packages/torch/nn/functional.py:718: UserWarning: Named tensors and all their associated APIs are an experimental feature and subject to change. Please do not use them for anything important until they are released as stable. (Triggered internally at  /pytorch/c10/core/TensorImpl.h:1156.)\n",
      "  return torch.max_pool2d(input, kernel_size, stride, padding, dilation, ceil_mode)\n"
     ]
    },
    {
     "data": {
      "application/vnd.jupyter.widget-view+json": {
       "model_id": "2a409c8a4ba24cc8acbcfca408345aba",
       "version_major": 2,
       "version_minor": 0
      },
      "text/plain": [
       "  0%|          | 0/125 [00:00<?, ?it/s]"
      ]
     },
     "metadata": {},
     "output_type": "display_data"
    },
    {
     "data": {
      "application/vnd.jupyter.widget-view+json": {
       "model_id": "d2054e7419404e959d2aae31246979f1",
       "version_major": 2,
       "version_minor": 0
      },
      "text/plain": [
       "  0%|          | 0/375 [00:00<?, ?it/s]"
      ]
     },
     "metadata": {},
     "output_type": "display_data"
    },
    {
     "data": {
      "application/vnd.jupyter.widget-view+json": {
       "model_id": "3e324c0eae7f4b42a3e0ba43ebd67c99",
       "version_major": 2,
       "version_minor": 0
      },
      "text/plain": [
       "  0%|          | 0/125 [00:00<?, ?it/s]"
      ]
     },
     "metadata": {},
     "output_type": "display_data"
    },
    {
     "data": {
      "application/vnd.jupyter.widget-view+json": {
       "model_id": "a4df0533456348d7b471f02f64a17e8a",
       "version_major": 2,
       "version_minor": 0
      },
      "text/plain": [
       "  0%|          | 0/375 [00:00<?, ?it/s]"
      ]
     },
     "metadata": {},
     "output_type": "display_data"
    },
    {
     "data": {
      "application/vnd.jupyter.widget-view+json": {
       "model_id": "5cddea614f0b415a982965ef529c7dbc",
       "version_major": 2,
       "version_minor": 0
      },
      "text/plain": [
       "  0%|          | 0/125 [00:00<?, ?it/s]"
      ]
     },
     "metadata": {},
     "output_type": "display_data"
    },
    {
     "data": {
      "application/vnd.jupyter.widget-view+json": {
       "model_id": "6dab594788fc40548654a14f26f5c67b",
       "version_major": 2,
       "version_minor": 0
      },
      "text/plain": [
       "  0%|          | 0/375 [00:00<?, ?it/s]"
      ]
     },
     "metadata": {},
     "output_type": "display_data"
    },
    {
     "data": {
      "application/vnd.jupyter.widget-view+json": {
       "model_id": "caaee6c0218d456db9a0b7a475fb358e",
       "version_major": 2,
       "version_minor": 0
      },
      "text/plain": [
       "  0%|          | 0/125 [00:00<?, ?it/s]"
      ]
     },
     "metadata": {},
     "output_type": "display_data"
    },
    {
     "data": {
      "application/vnd.jupyter.widget-view+json": {
       "model_id": "f6a61038ff804ac1ad06bb53d3f69885",
       "version_major": 2,
       "version_minor": 0
      },
      "text/plain": [
       "  0%|          | 0/375 [00:00<?, ?it/s]"
      ]
     },
     "metadata": {},
     "output_type": "display_data"
    },
    {
     "data": {
      "application/vnd.jupyter.widget-view+json": {
       "model_id": "a0274bacfa484efcab05075318e9d573",
       "version_major": 2,
       "version_minor": 0
      },
      "text/plain": [
       "  0%|          | 0/125 [00:00<?, ?it/s]"
      ]
     },
     "metadata": {},
     "output_type": "display_data"
    },
    {
     "data": {
      "application/vnd.jupyter.widget-view+json": {
       "model_id": "dc7f56bb9aeb4e93bf4b596ba097a2e1",
       "version_major": 2,
       "version_minor": 0
      },
      "text/plain": [
       "  0%|          | 0/375 [00:00<?, ?it/s]"
      ]
     },
     "metadata": {},
     "output_type": "display_data"
    },
    {
     "data": {
      "application/vnd.jupyter.widget-view+json": {
       "model_id": "645dee493cac402eae87b968551def7a",
       "version_major": 2,
       "version_minor": 0
      },
      "text/plain": [
       "  0%|          | 0/125 [00:00<?, ?it/s]"
      ]
     },
     "metadata": {},
     "output_type": "display_data"
    },
    {
     "data": {
      "application/vnd.jupyter.widget-view+json": {
       "model_id": "d6931dfe3ea74879b7e961a0a6b81f58",
       "version_major": 2,
       "version_minor": 0
      },
      "text/plain": [
       "  0%|          | 0/375 [00:00<?, ?it/s]"
      ]
     },
     "metadata": {},
     "output_type": "display_data"
    },
    {
     "data": {
      "application/vnd.jupyter.widget-view+json": {
       "model_id": "6a18b2db34c542c0ba75ee4a6f38674f",
       "version_major": 2,
       "version_minor": 0
      },
      "text/plain": [
       "  0%|          | 0/125 [00:00<?, ?it/s]"
      ]
     },
     "metadata": {},
     "output_type": "display_data"
    },
    {
     "data": {
      "application/vnd.jupyter.widget-view+json": {
       "model_id": "31d2b670d17a4982bcf69cd581c73fbe",
       "version_major": 2,
       "version_minor": 0
      },
      "text/plain": [
       "  0%|          | 0/375 [00:00<?, ?it/s]"
      ]
     },
     "metadata": {},
     "output_type": "display_data"
    },
    {
     "data": {
      "application/vnd.jupyter.widget-view+json": {
       "model_id": "494358e9baf446fd8650ca4d08ea2a09",
       "version_major": 2,
       "version_minor": 0
      },
      "text/plain": [
       "  0%|          | 0/125 [00:00<?, ?it/s]"
      ]
     },
     "metadata": {},
     "output_type": "display_data"
    },
    {
     "data": {
      "application/vnd.jupyter.widget-view+json": {
       "model_id": "506f26ac95c246c887d9d0227690fd59",
       "version_major": 2,
       "version_minor": 0
      },
      "text/plain": [
       "  0%|          | 0/375 [00:00<?, ?it/s]"
      ]
     },
     "metadata": {},
     "output_type": "display_data"
    },
    {
     "data": {
      "application/vnd.jupyter.widget-view+json": {
       "model_id": "6b820ee28ad74c81ba9dfbeaad754ead",
       "version_major": 2,
       "version_minor": 0
      },
      "text/plain": [
       "  0%|          | 0/125 [00:00<?, ?it/s]"
      ]
     },
     "metadata": {},
     "output_type": "display_data"
    },
    {
     "data": {
      "application/vnd.jupyter.widget-view+json": {
       "model_id": "b872cdcf0cf84f9fa092a6f5a9873d6d",
       "version_major": 2,
       "version_minor": 0
      },
      "text/plain": [
       "  0%|          | 0/375 [00:00<?, ?it/s]"
      ]
     },
     "metadata": {},
     "output_type": "display_data"
    },
    {
     "data": {
      "application/vnd.jupyter.widget-view+json": {
       "model_id": "1c7073af805d48a98057aa3d32993bcc",
       "version_major": 2,
       "version_minor": 0
      },
      "text/plain": [
       "  0%|          | 0/125 [00:00<?, ?it/s]"
      ]
     },
     "metadata": {},
     "output_type": "display_data"
    }
   ],
   "source": [
    "lossFun = nn.BCEWithLogitsLoss()\n",
    "\n",
    "params_to_update = []\n",
    "\n",
    "for param in model.parameters():\n",
    "    if param.requires_grad == True:\n",
    "        params_to_update.append(param)\n",
    "        \n",
    "optimizer = optim.AdamW(params_to_update, lr=0.01)\n",
    "\n",
    "tl_bin_canc = []\n",
    "vl_bin_canc = []\n",
    "ta_bin_canc = []\n",
    "va_bin_canc = []\n",
    "num_epochs = 10\n",
    "\n",
    "for i in range(num_epochs):\n",
    "    train_loss, train_acc, valid_loss, valid_acc = one_pass_train_valid(model, dlc_train, dlc_valid, optimizer, lossFun, class_type='binary', device=device)\n",
    "    tl_bin_canc.append(train_loss)\n",
    "    vl_bin_canc.append(valid_loss)\n",
    "    ta_bin_canc.append(train_acc)\n",
    "    va_bin_canc.append(valid_acc)"
   ]
  },
  {
   "cell_type": "code",
   "execution_count": 14,
   "id": "settled-present",
   "metadata": {
    "tags": []
   },
   "outputs": [],
   "source": [
    "def optimizer_params(model, max_lr=0.01):\n",
    "    \"\"\"\n",
    "    Scales the optimizer parameters:\n",
    "    learning rate\n",
    "    \"\"\"\n",
    "\n",
    "    # The deeper into the model, the smaller the learning rate\n",
    "    params = []\n",
    "    \n",
    "    for i, layer in enumerate(model.children()):\n",
    "        if i < 6:\n",
    "            params.append({'params': layer.parameters(), 'lr': max_lr / 100})\n",
    "        elif 5 < i < 9:\n",
    "            params.append({'params': layer.parameters(), 'lr': max_lr / 10})\n",
    "        else:\n",
    "            params.append({'params': layer.parameters()})\n",
    "\n",
    "    return params\n",
    "\n",
    "params = optimizer_params(model)"
   ]
  },
  {
   "cell_type": "code",
   "execution_count": 22,
   "id": "0d1b1bad-130a-41a8-a441-12e95e4cce2a",
   "metadata": {},
   "outputs": [],
   "source": [
    "# credit: Kamron Ajfshar\n",
    "def create_optimizer(model, lr0):\n",
    "    parameters = filter(lambda p: p.requires_grad, model.parameters())\n",
    "    return optim.Adam(parameters,lr=lr0, weight_decay=1e-5)\n",
    "\n",
    "def update_optimizer(optimizer, lr0):\n",
    "    optimizer.param_groups[0][\"lr\"] = lr0\n",
    "\n",
    "def cosine_segment(start_lr, end_lr, iterations):\n",
    "    i = np.arange(iterations)\n",
    "    c_i = 1 + np.cos(i*np.pi/iterations)\n",
    "    return end_lr + (start_lr - end_lr)/2 *c_i\n",
    "\n",
    "def get_cosine_triangular_lr(max_lr, iterations):\n",
    "    min_start, min_end = max_lr/25, max_lr/(25*1e4)\n",
    "    iter1 = int(0.3*iterations)\n",
    "    iter2 = iterations - iter1\n",
    "    segs = [cosine_segment(min_start, max_lr, iter1), cosine_segment(max_lr, min_end, iter2)]\n",
    "    return np.concatenate(segs)"
   ]
  },
  {
   "cell_type": "code",
   "execution_count": 22,
   "id": "seven-dancing",
   "metadata": {
    "tags": []
   },
   "outputs": [],
   "source": [
    "# Debugging optimizer update loop\n",
    "\n",
    "# all_params = []\n",
    "\n",
    "# for name, param in resnet.named_parameters():\n",
    "#     param.requires_grad = False\n",
    "#     all_params.append(param)\n",
    "    \n",
    "# for param in all_params[-2:]:\n",
    "#     param.requires_grad = True\n",
    "\n",
    "# step = 62 // num_epochs\n",
    "\n",
    "# for i in range(1, num_epochs + 1):\n",
    "#     print(\"Epoch: \", i)\n",
    "#     for param in all_params[-i*step:]:\n",
    "#         param.requires_grad = True\n",
    "\n",
    "#     for name, param in resnet.named_parameters():\n",
    "#             print(param.requires_grad)"
   ]
  },
  {
   "cell_type": "code",
   "execution_count": 30,
   "id": "thick-delaware",
   "metadata": {},
   "outputs": [],
   "source": [
    "num_layers = len(list(model.named_parameters()))\n",
    "\n",
    "def update_grads(model, i, num_epochs):\n",
    "    \"\"\"Unfreezes an 'steps' numbers of layers each epoch\"\"\"\n",
    "    step = num_layers // num_epochs\n",
    "    \n",
    "    all_params = []\n",
    "    \n",
    "    for name, param in model.named_parameters():\n",
    "        all_params.append(param)\n",
    "        \n",
    "    for param in all_params[-i*step:]:\n",
    "        param.requires_grad = True\n",
    "\n",
    "    params = optimizer_params(model)\n",
    "        \n",
    "    optimizer = optim.AdamW(params, lr=0.01)\n",
    "\n",
    "    return optimizer"
   ]
  },
  {
   "cell_type": "code",
   "execution_count": 32,
   "id": "ad84855e-afe6-474b-8858-0a14ffd20ff0",
   "metadata": {},
   "outputs": [],
   "source": [
    "pickle.dump(train_losses, open(f'scores/{directory}_tlosses.pkl', 'wb'))\n",
    "pickle.dump(train_accs, open(f'scores/{directory}_taccs.pkl', 'wb'))\n",
    "pickle.dump(valid_losses, open(f'scores/{directory}_vlosses.pkl', 'wb'))\n",
    "pickle.dump(valid_accs, open(f'scores/{directory}_vaccs.pkl', 'wb'))"
   ]
  },
  {
   "cell_type": "code",
   "execution_count": 36,
   "id": "0d97a9eb-e003-4b37-93be-ce0c2fd48cd0",
   "metadata": {},
   "outputs": [
    {
     "data": {
      "image/png": "[encoded data removed]",
      "text/plain": [
       "<Figure size 432x288 with 1 Axes>"
      ]
     },
     "metadata": {},
     "output_type": "display_data"
    }
   ],
   "source": [
    "plt.style.use('ggplot')\n",
    "\n",
    "plt.plot(train_losses[:10], label='train')\n",
    "plt.plot(valid_losses[:10], label='valid')\n",
    "plt.legend()\n",
    "plt.title('Densenet Loss')\n",
    "plt.xlabel('Epoch')\n",
    "#plt.show()\n",
    "plt.savefig('figures/densenetloss.png')"
   ]
  },
  {
   "cell_type": "code",
   "execution_count": 34,
   "id": "3a088f67-18a3-40b9-823a-31487990dab5",
   "metadata": {},
   "outputs": [
    {
     "data": {
      "image/png": "[encoded data removed]",
      "text/plain": [
       "<Figure size 432x288 with 1 Axes>"
      ]
     },
     "metadata": {},
     "output_type": "display_data"
    }
   ],
   "source": [
    "plt.plot(train_accs)\n",
    "plt.plot(valid_accs)\n",
    "plt.show()"
   ]
  },
  {
   "cell_type": "markdown",
   "id": "5ae2af2f-7e77-4ffb-a88b-f1a5f1361754",
   "metadata": {},
   "source": [
    "# Loading Parameters/Model"
   ]
  },
  {
   "cell_type": "code",
   "execution_count": 28,
   "id": "attractive-turning",
   "metadata": {},
   "outputs": [],
   "source": [
    "# # now load them up!\n",
    "# checkpoint = torch.load('model_checkpoint.pt')\n",
    "# model.load_state_dict(checkpoint['model_state_dict'])\n",
    "# optimizer.load_state_dict(checkpoint['optimizer_state_dict'])\n",
    "\n",
    "# load the model from disk\n",
    "# loaded_model = pickle.load(open(filename, 'rb'))"
   ]
  },
  {
   "cell_type": "code",
   "execution_count": null,
   "id": "a4f451cf-8769-44e6-8548-bb1a36f0113f",
   "metadata": {},
   "outputs": [],
   "source": []
  }
 ],
 "metadata": {
  "kernelspec": {
   "display_name": "deep_learning",
   "language": "python",
   "name": "deep_learning"
  },
  "language_info": {
   "codemirror_mode": {
    "name": "ipython",
    "version": 3
   },
   "file_extension": ".py",
   "mimetype": "text/x-python",
   "name": "python",
   "nbconvert_exporter": "python",
   "pygments_lexer": "ipython3",
   "version": "3.6.8"
  }
 },
 "nbformat": 4,
 "nbformat_minor": 5
}
